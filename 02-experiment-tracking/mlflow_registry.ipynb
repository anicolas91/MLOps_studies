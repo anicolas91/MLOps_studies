{
 "cells": [
  {
   "cell_type": "code",
   "execution_count": 6,
   "metadata": {},
   "outputs": [],
   "source": [
    "from mlflow.tracking import MlflowClient\n",
    "\n",
    "\n",
    "MLFLOW_TRACKING_URI = \"sqlite:///mlflow.db\"\n"
   ]
  },
  {
   "cell_type": "markdown",
   "metadata": {},
   "source": [
    "### Connecting to mlflow client"
   ]
  },
  {
   "cell_type": "code",
   "execution_count": 8,
   "metadata": {},
   "outputs": [],
   "source": [
    "\n",
    "client = MlflowClient(tracking_uri=MLFLOW_TRACKING_URI)"
   ]
  },
  {
   "cell_type": "markdown",
   "metadata": {},
   "source": [
    "### Listing all experiments on client"
   ]
  },
  {
   "cell_type": "code",
   "execution_count": 10,
   "metadata": {},
   "outputs": [
    {
     "data": {
      "text/plain": [
       "[<Experiment: artifact_location=('/Users/andreanicolas/Library/CloudStorage/GoogleDrive-andreanicolas91@gmail.com/My '\n",
       "  'Drive/ASU_ComputerScience/MLOps_studies/02-experiment-tracking/mlruns/1'), creation_time=1716340686867, experiment_id='1', last_update_time=1716340686867, lifecycle_stage='active', name='nyc-taxi-experiment', tags={}>,\n",
       " <Experiment: artifact_location='mlflow-artifacts:/0', creation_time=1716339311631, experiment_id='0', last_update_time=1716339311631, lifecycle_stage='active', name='Default', tags={}>]"
      ]
     },
     "execution_count": 10,
     "metadata": {},
     "output_type": "execute_result"
    }
   ],
   "source": [
    "#client.list_experiments()\n",
    "# list experiments has been removed, use search_experiments\n",
    "client.search_experiments()"
   ]
  },
  {
   "cell_type": "markdown",
   "metadata": {},
   "source": [
    "### Creating a new experiment"
   ]
  },
  {
   "cell_type": "code",
   "execution_count": 11,
   "metadata": {},
   "outputs": [
    {
     "data": {
      "text/plain": [
       "'2'"
      ]
     },
     "execution_count": 11,
     "metadata": {},
     "output_type": "execute_result"
    }
   ],
   "source": [
    "# to create a new experiment:\n",
    "client.create_experiment(name=\"my-cool-experiment\")"
   ]
  },
  {
   "cell_type": "markdown",
   "metadata": {},
   "source": [
    "### Obtaining top 5 best runs"
   ]
  },
  {
   "cell_type": "code",
   "execution_count": 18,
   "metadata": {},
   "outputs": [],
   "source": [
    "from mlflow.entities import ViewType\n",
    "# get best runs\n",
    "runs = client.search_runs(\n",
    "    experiment_ids= 1, #  id 1 is for nyc-taxi-experiment\n",
    "    filter_string=\"metrics.rmse < 5.2\", #default is \"\"\n",
    "    run_view_type=ViewType.ACTIVE_ONLY, #default\n",
    "    max_results=10, # top 10\n",
    "    order_by=[\"metrics.rmse ASC\"] # RMSE ascending\n",
    ")"
   ]
  },
  {
   "cell_type": "code",
   "execution_count": 20,
   "metadata": {},
   "outputs": [
    {
     "name": "stdout",
     "output_type": "stream",
     "text": [
      "run name: fun-bird-728, run id: 3a1b47272275407cb31762aa65763ffe,rmse: 5.1121\n",
      "run name: legendary-sloth-321, run id: 42b2669b03d9485fb14b40a2ebbc1653,rmse: 5.1157\n",
      "run name: dapper-finch-532, run id: 4e68fd0dcf3941ec88dbfa4f62f7cc69,rmse: 5.1187\n",
      "run name: serious-fox-828, run id: bfce02dcde384b48bdc8c59926b4b36e,rmse: 5.1190\n",
      "run name: vaunted-crab-10, run id: 3fd3beb2a281479294f7fc646149c2c1,rmse: 5.1195\n",
      "run name: glamorous-turtle-248, run id: 0b983bbfdc7148a3951d7bce9c997594,rmse: 5.1196\n",
      "run name: amazing-yak-769, run id: 1a1936ba97f04dc488782a8cc6242c7b,rmse: 5.1196\n",
      "run name: salty-rook-257, run id: c77157dfb8314558a44e404e402c1930,rmse: 5.1196\n",
      "run name: clumsy-lynx-332, run id: 75727bda700b42c3961acea9e6d1f336,rmse: 5.1244\n",
      "run name: rogue-colt-880, run id: 480546989b644d959ce918447c230389,rmse: 5.1251\n"
     ]
    }
   ],
   "source": [
    "# print the best 5 runs\n",
    "for run in runs:\n",
    "    print(f\"run name: {run.info.run_name}, run id: {run.info.run_id},rmse: {run.data.metrics['rmse']:.4f}\")"
   ]
  },
  {
   "cell_type": "markdown",
   "metadata": {},
   "source": [
    "### Registering the model"
   ]
  },
  {
   "cell_type": "code",
   "execution_count": 23,
   "metadata": {},
   "outputs": [
    {
     "name": "stderr",
     "output_type": "stream",
     "text": [
      "Registered model 'nyc-taxi-regressor' already exists. Creating a new version of this model...\n",
      "Created version '3' of model 'nyc-taxi-regressor'.\n"
     ]
    },
    {
     "data": {
      "text/plain": [
       "<ModelVersion: aliases=[], creation_timestamp=1716412936661, current_stage='None', description=None, last_updated_timestamp=1716412936661, name='nyc-taxi-regressor', run_id='0b983bbfdc7148a3951d7bce9c997594', run_link=None, source=('/Users/andreanicolas/Library/CloudStorage/GoogleDrive-andreanicolas91@gmail.com/My '\n",
       " 'Drive/ASU_ComputerScience/MLOps_studies/02-experiment-tracking/mlruns/1/0b983bbfdc7148a3951d7bce9c997594/artifacts/models_mlflow'), status='READY', status_message=None, tags={}, user_id=None, version=3>"
      ]
     },
     "execution_count": 23,
     "metadata": {},
     "output_type": "execute_result"
    }
   ],
   "source": [
    "import mlflow\n",
    "mlflow.set_tracking_uri(MLFLOW_TRACKING_URI)\n",
    "\n",
    "# for glamorous turtle:\n",
    "run_id = \"0b983bbfdc7148a3951d7bce9c997594\"\n",
    "model_uri = f\"runs:/{run_id}/models_mlflow\"\n",
    "mlflow.register_model(model_uri=model_uri,name='nyc-taxi-regressor')"
   ]
  },
  {
   "cell_type": "markdown",
   "metadata": {},
   "source": [
    "#### Transitioning from one stage to another"
   ]
  },
  {
   "cell_type": "code",
   "execution_count": 28,
   "metadata": {},
   "outputs": [
    {
     "name": "stdout",
     "output_type": "stream",
     "text": [
      "version: 2, stage: Staging\n",
      "version: 3, stage: None\n"
     ]
    },
    {
     "name": "stderr",
     "output_type": "stream",
     "text": [
      "/var/folders/fm/8gkkcxbn0y3896pxrr1p0nqh0000gn/T/ipykernel_3802/3344490539.py:2: FutureWarning: ``mlflow.tracking.client.MlflowClient.get_latest_versions`` is deprecated since 2.9.0. Model registry stages will be removed in a future major release. To learn more about the deprecation of model registry stages, see our migration guide here: https://mlflow.org/docs/2.13.0/model-registry.html#migrating-from-stages\n",
      "  latest_versions = client.get_latest_versions(name=model_name)\n"
     ]
    }
   ],
   "source": [
    "model_name = 'nyc-taxi-regressor'\n",
    "latest_versions = client.get_latest_versions(name=model_name)\n",
    "\n",
    "for version in latest_versions:\n",
    "    print(f\"version: {version.version}, stage: {version.current_stage}\")\n"
   ]
  },
  {
   "cell_type": "code",
   "execution_count": 44,
   "metadata": {},
   "outputs": [
    {
     "name": "stderr",
     "output_type": "stream",
     "text": [
      "/var/folders/fm/8gkkcxbn0y3896pxrr1p0nqh0000gn/T/ipykernel_3802/1093745685.py:3: FutureWarning: ``mlflow.tracking.client.MlflowClient.transition_model_version_stage`` is deprecated since 2.9.0. Model registry stages will be removed in a future major release. To learn more about the deprecation of model registry stages, see our migration guide here: https://mlflow.org/docs/2.13.0/model-registry.html#migrating-from-stages\n",
      "  client.transition_model_version_stage(\n"
     ]
    },
    {
     "data": {
      "text/plain": [
       "<ModelVersion: aliases=[], creation_timestamp=1716412936661, current_stage='Production', description='The model version 3 was transitioned to Staging on 2024-05-22', last_updated_timestamp=1716417436300, name='nyc-taxi-regressor', run_id='0b983bbfdc7148a3951d7bce9c997594', run_link=None, source=('/Users/andreanicolas/Library/CloudStorage/GoogleDrive-andreanicolas91@gmail.com/My '\n",
       " 'Drive/ASU_ComputerScience/MLOps_studies/02-experiment-tracking/mlruns/1/0b983bbfdc7148a3951d7bce9c997594/artifacts/models_mlflow'), status='READY', status_message=None, tags={}, user_id=None, version=3>"
      ]
     },
     "execution_count": 44,
     "metadata": {},
     "output_type": "execute_result"
    }
   ],
   "source": [
    "model_version = 3\n",
    "model_stage = \"Production\"\n",
    "client.transition_model_version_stage(\n",
    "    name=model_name,\n",
    "    version=model_version,\n",
    "    stage=model_stage,\n",
    "    archive_existing_versions=False\n",
    ")"
   ]
  },
  {
   "cell_type": "markdown",
   "metadata": {},
   "source": [
    "### Updating model info"
   ]
  },
  {
   "cell_type": "code",
   "execution_count": 45,
   "metadata": {},
   "outputs": [
    {
     "data": {
      "text/plain": [
       "<ModelVersion: aliases=[], creation_timestamp=1716412936661, current_stage='Production', description='The model version 3 was transitioned to Production on 2024-05-22', last_updated_timestamp=1716417455901, name='nyc-taxi-regressor', run_id='0b983bbfdc7148a3951d7bce9c997594', run_link=None, source=('/Users/andreanicolas/Library/CloudStorage/GoogleDrive-andreanicolas91@gmail.com/My '\n",
       " 'Drive/ASU_ComputerScience/MLOps_studies/02-experiment-tracking/mlruns/1/0b983bbfdc7148a3951d7bce9c997594/artifacts/models_mlflow'), status='READY', status_message=None, tags={}, user_id=None, version=3>"
      ]
     },
     "execution_count": 45,
     "metadata": {},
     "output_type": "execute_result"
    }
   ],
   "source": [
    "from datetime import datetime\n",
    "date = datetime.today().date()\n",
    "\n",
    "client.update_model_version(\n",
    "    name=model_name,\n",
    "    version=model_version,\n",
    "    description=f\"The model version {model_version} was transitioned to {model_stage} on {date}\"\n",
    ")"
   ]
  },
  {
   "cell_type": "markdown",
   "metadata": {},
   "source": [
    "## Promote Stating into Prod and moving existing Prod to archive"
   ]
  },
  {
   "cell_type": "markdown",
   "metadata": {},
   "source": [
    "### Create functions to do preprocessing and testing\n",
    "- January - training\n",
    "- February - validation\n",
    "- march - testing"
   ]
  },
  {
   "cell_type": "code",
   "execution_count": 39,
   "metadata": {},
   "outputs": [],
   "source": [
    "from sklearn.metrics import root_mean_squared_error\n",
    "import pandas as pd\n",
    "\n",
    "# function to read and filter data\n",
    "def read_dataframe(filename):\n",
    "    df = pd.read_parquet(filename) #read data\n",
    "    df['duration'] = df.lpep_dropoff_datetime - df.lpep_pickup_datetime # calculate duration\n",
    "    df.duration = df.duration.apply(lambda td: td.total_seconds() / 60) # convert to mins\n",
    "    mask = ((df.duration >=1) & (df.duration<=60)) # select only significant data\n",
    "    df = df[mask]\n",
    "    categorical = ['PULocationID', 'DOLocationID'] # pickup and dropoff location\n",
    "    df[categorical] = df[categorical].astype(str) # convert to string/object to prevent labeling\n",
    "\n",
    "    return df\n",
    "\n",
    "# function to preprocess by combining two datasets into one\n",
    "def preprocess(df, dv):\n",
    "    df['PU_DO'] = df['PULocationID'] + '_' + df['DOLocationID']\n",
    "    categorical = ['PU_DO']\n",
    "    numerical = ['trip_distance']\n",
    "    train_dicts = df[categorical + numerical].to_dict(orient='records')\n",
    "    return dv.transform(train_dicts)\n",
    "\n",
    "# function to test the existing model via RMSE\n",
    "def test_model(name, stage, X_test, y_test):\n",
    "    model = mlflow.pyfunc.load_model(f\"models:/{name}/{stage}\")\n",
    "    y_pred = model.predict(X_test)\n",
    "    return {\"rmse\": root_mean_squared_error(y_test, y_pred)}"
   ]
  },
  {
   "cell_type": "markdown",
   "metadata": {},
   "source": [
    "#### Read in test dataframe and download preprocessor from mlflow's glamorous turtle "
   ]
  },
  {
   "cell_type": "code",
   "execution_count": 40,
   "metadata": {},
   "outputs": [],
   "source": [
    "df= read_dataframe(\"../data/green_tripdata_2023-03.parquet\")"
   ]
  },
  {
   "cell_type": "code",
   "execution_count": 41,
   "metadata": {},
   "outputs": [
    {
     "data": {
      "application/vnd.jupyter.widget-view+json": {
       "model_id": "e06af9b85ca64644a5f4a4a05aef9933",
       "version_major": 2,
       "version_minor": 0
      },
      "text/plain": [
       "Downloading artifacts:   0%|          | 0/1 [00:00<?, ?it/s]"
      ]
     },
     "metadata": {},
     "output_type": "display_data"
    },
    {
     "data": {
      "text/plain": [
       "'/Users/andreanicolas/Library/CloudStorage/GoogleDrive-andreanicolas91@gmail.com/My Drive/ASU_ComputerScience/MLOps_studies/02-experiment-tracking/preprocessor'"
      ]
     },
     "execution_count": 41,
     "metadata": {},
     "output_type": "execute_result"
    }
   ],
   "source": [
    "client.download_artifacts(run_id=run_id, path='preprocessor',dst_path='.')"
   ]
  },
  {
   "cell_type": "code",
   "execution_count": 42,
   "metadata": {},
   "outputs": [],
   "source": [
    "import pickle \n",
    "with open(\"preprocessor/preprocessor.b\",\"rb\") as f_in:\n",
    "    dv = pickle.load(f_in)"
   ]
  },
  {
   "cell_type": "markdown",
   "metadata": {},
   "source": [
    "#### Preprocess the dataset using already fitted/transformed preprocessor"
   ]
  },
  {
   "cell_type": "code",
   "execution_count": 43,
   "metadata": {},
   "outputs": [],
   "source": [
    "X_test = preprocess(df,dv)"
   ]
  },
  {
   "cell_type": "markdown",
   "metadata": {},
   "source": [
    "#### Test the model"
   ]
  },
  {
   "cell_type": "code",
   "execution_count": 46,
   "metadata": {},
   "outputs": [],
   "source": [
    "target = \"duration\"\n",
    "y_test = df[target].values"
   ]
  },
  {
   "cell_type": "code",
   "execution_count": 47,
   "metadata": {},
   "outputs": [
    {
     "name": "stderr",
     "output_type": "stream",
     "text": [
      "/Users/andreanicolas/anaconda3/envs/exp-tracking-env/lib/python3.9/site-packages/mlflow/store/artifact/utils/models.py:32: FutureWarning: ``mlflow.tracking.client.MlflowClient.get_latest_versions`` is deprecated since 2.9.0. Model registry stages will be removed in a future major release. To learn more about the deprecation of model registry stages, see our migration guide here: https://mlflow.org/docs/2.13.0/model-registry.html#migrating-from-stages\n",
      "  latest = client.get_latest_versions(name, None if stage is None else [stage])\n",
      "/Users/andreanicolas/anaconda3/envs/exp-tracking-env/lib/python3.9/site-packages/xgboost/core.py:160: UserWarning: [15:38:30] WARNING: /Users/runner/work/xgboost/xgboost/src/objective/regression_obj.cu:209: reg:linear is now deprecated in favor of reg:squarederror.\n",
      "  warnings.warn(smsg, UserWarning)\n"
     ]
    },
    {
     "name": "stdout",
     "output_type": "stream",
     "text": [
      "CPU times: user 7.44 s, sys: 226 ms, total: 7.67 s\n",
      "Wall time: 1.66 s\n"
     ]
    },
    {
     "data": {
      "text/plain": [
       "{'rmse': 5.3531981028447575}"
      ]
     },
     "execution_count": 47,
     "metadata": {},
     "output_type": "execute_result"
    }
   ],
   "source": [
    "%time test_model(name=model_name, stage=\"Production\",X_test=X_test,y_test=y_test)"
   ]
  },
  {
   "cell_type": "code",
   "execution_count": 48,
   "metadata": {},
   "outputs": [
    {
     "name": "stderr",
     "output_type": "stream",
     "text": [
      "/Users/andreanicolas/anaconda3/envs/exp-tracking-env/lib/python3.9/site-packages/mlflow/store/artifact/utils/models.py:32: FutureWarning: ``mlflow.tracking.client.MlflowClient.get_latest_versions`` is deprecated since 2.9.0. Model registry stages will be removed in a future major release. To learn more about the deprecation of model registry stages, see our migration guide here: https://mlflow.org/docs/2.13.0/model-registry.html#migrating-from-stages\n",
      "  latest = client.get_latest_versions(name, None if stage is None else [stage])\n",
      "/Users/andreanicolas/anaconda3/envs/exp-tracking-env/lib/python3.9/site-packages/xgboost/core.py:160: UserWarning: [15:41:12] WARNING: /Users/runner/work/xgboost/xgboost/src/objective/regression_obj.cu:209: reg:linear is now deprecated in favor of reg:squarederror.\n",
      "  warnings.warn(smsg, UserWarning)\n"
     ]
    },
    {
     "name": "stdout",
     "output_type": "stream",
     "text": [
      "CPU times: user 7.26 s, sys: 71.6 ms, total: 7.33 s\n",
      "Wall time: 1.17 s\n"
     ]
    },
    {
     "data": {
      "text/plain": [
       "{'rmse': 5.3531981028447575}"
      ]
     },
     "execution_count": 48,
     "metadata": {},
     "output_type": "execute_result"
    }
   ],
   "source": [
    "%time test_model(name=model_name, stage=\"Staging\",X_test=X_test,y_test=y_test)"
   ]
  },
  {
   "cell_type": "markdown",
   "metadata": {},
   "source": [
    "#### Upgrading and archiving"
   ]
  },
  {
   "cell_type": "code",
   "execution_count": 51,
   "metadata": {},
   "outputs": [
    {
     "name": "stderr",
     "output_type": "stream",
     "text": [
      "/var/folders/fm/8gkkcxbn0y3896pxrr1p0nqh0000gn/T/ipykernel_3802/3641299958.py:7: FutureWarning: ``mlflow.tracking.client.MlflowClient.transition_model_version_stage`` is deprecated since 2.9.0. Model registry stages will be removed in a future major release. To learn more about the deprecation of model registry stages, see our migration guide here: https://mlflow.org/docs/2.13.0/model-registry.html#migrating-from-stages\n",
      "  client.transition_model_version_stage(\n"
     ]
    },
    {
     "data": {
      "text/plain": [
       "<ModelVersion: aliases=[], creation_timestamp=1716407098344, current_stage='Production', description='The model version 1 was transitioned to Production on 2024-05-22', last_updated_timestamp=1716417939984, name='nyc-taxi-regressor', run_id='0b983bbfdc7148a3951d7bce9c997594', run_link='', source=('/Users/andreanicolas/Library/CloudStorage/GoogleDrive-andreanicolas91@gmail.com/My '\n",
       " 'Drive/ASU_ComputerScience/MLOps_studies/02-experiment-tracking/mlruns/1/0b983bbfdc7148a3951d7bce9c997594/artifacts/models_mlflow'), status='READY', status_message=None, tags={'model': 'fastest'}, user_id=None, version=1>"
      ]
     },
     "execution_count": 51,
     "metadata": {},
     "output_type": "execute_result"
    }
   ],
   "source": [
    "from datetime import datetime\n",
    "date = datetime.today().date()\n",
    "\n",
    "model_name = 'nyc-taxi-regressor'\n",
    "model_version = 1\n",
    "model_stage = \"Production\"\n",
    "client.transition_model_version_stage(\n",
    "    name=model_name,\n",
    "    version=model_version,\n",
    "    stage=model_stage,\n",
    "    archive_existing_versions=True\n",
    ")\n",
    "\n",
    "client.update_model_version(\n",
    "    name=model_name,\n",
    "    version=model_version,\n",
    "    description=f\"The model version {model_version} was transitioned to {model_stage} on {date}\"\n",
    ")"
   ]
  }
 ],
 "metadata": {
  "kernelspec": {
   "display_name": "exp-tracking-env",
   "language": "python",
   "name": "python3"
  },
  "language_info": {
   "codemirror_mode": {
    "name": "ipython",
    "version": 3
   },
   "file_extension": ".py",
   "mimetype": "text/x-python",
   "name": "python",
   "nbconvert_exporter": "python",
   "pygments_lexer": "ipython3",
   "version": "3.9.19"
  }
 },
 "nbformat": 4,
 "nbformat_minor": 2
}
